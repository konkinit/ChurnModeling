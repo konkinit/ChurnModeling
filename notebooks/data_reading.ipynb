{
 "cells": [
  {
   "cell_type": "code",
   "execution_count": 1,
   "metadata": {},
   "outputs": [],
   "source": [
    "import os\n",
    "import pandas as pd\n",
    "import seaborn as sns\n",
    "import matplotlib.pyplot as plt\n",
    "import numpy as np\n",
    "import re\n",
    "\n",
    "from sklearn.model_selection import train_test_split\n",
    "from bertopic import BERTopic\n",
    "from sklearn.feature_extraction.text import CountVectorizer\n",
    "from bertopic.vectorizers import ClassTfidfTransformer\n",
    "\n",
    "from sklearn.preprocessing import OneHotEncoder"
   ]
  },
  {
   "cell_type": "code",
   "execution_count": 2,
   "metadata": {},
   "outputs": [],
   "source": [
    "os.chdir(\"/home/ikonkobo/Desktop/Self_Learning/telco_churn/\")\n",
    "from src.data.metadata_analysis import MetadataStats"
   ]
  },
  {
   "attachments": {},
   "cell_type": "markdown",
   "metadata": {},
   "source": [
    "# Idea Testing"
   ]
  },
  {
   "cell_type": "code",
   "execution_count": 3,
   "metadata": {},
   "outputs": [],
   "source": [
    "comms_df = pd.read_sas(\"./data/raw/commsdata.sas7bdat\", encoding=\"utf-8\")"
   ]
  },
  {
   "cell_type": "code",
   "execution_count": 4,
   "metadata": {},
   "outputs": [
    {
     "data": {
      "text/plain": [
       "0                    Equipment Upgrade Fee\n",
       "1        Equipment Change: Change IMEI/SIM\n",
       "2                        Process a Payment\n",
       "3                        Reinstate Account\n",
       "4                     Payment Arrangements\n",
       "                       ...                \n",
       "56552                    Equipment Upgrade\n",
       "56553                 Payment Arrangements\n",
       "56554                  General Information\n",
       "56555                         eStore Match\n",
       "56556                GTE AppCenter Charges\n",
       "Name: issue_level2, Length: 56557, dtype: object"
      ]
     },
     "execution_count": 4,
     "metadata": {},
     "output_type": "execute_result"
    }
   ],
   "source": [
    "comms_df.issue_level2"
   ]
  },
  {
   "cell_type": "code",
   "execution_count": 5,
   "metadata": {},
   "outputs": [
    {
     "data": {
      "text/html": [
       "<div>\n",
       "<style scoped>\n",
       "    .dataframe tbody tr th:only-of-type {\n",
       "        vertical-align: middle;\n",
       "    }\n",
       "\n",
       "    .dataframe tbody tr th {\n",
       "        vertical-align: top;\n",
       "    }\n",
       "\n",
       "    .dataframe thead th {\n",
       "        text-align: right;\n",
       "    }\n",
       "</style>\n",
       "<table border=\"1\" class=\"dataframe\">\n",
       "  <thead>\n",
       "    <tr style=\"text-align: right;\">\n",
       "      <th></th>\n",
       "      <th>Variable Name</th>\n",
       "      <th>Label</th>\n",
       "      <th>Type</th>\n",
       "      <th>Number of missing</th>\n",
       "      <th>Number of categories</th>\n",
       "      <th>Mode</th>\n",
       "    </tr>\n",
       "  </thead>\n",
       "  <tbody>\n",
       "    <tr>\n",
       "      <th>0</th>\n",
       "      <td>call_category_1</td>\n",
       "      <td>call_category_1</td>\n",
       "      <td>Categorical</td>\n",
       "      <td>0</td>\n",
       "      <td>17</td>\n",
       "      <td>Friendly &amp; Courteous</td>\n",
       "    </tr>\n",
       "  </tbody>\n",
       "</table>\n",
       "</div>"
      ],
      "text/plain": [
       "     Variable Name            Label         Type  Number of missing  \\\n",
       "0  call_category_1  call_category_1  Categorical                  0   \n",
       "\n",
       "   Number of categories                  Mode  \n",
       "0                    17  Friendly & Courteous  "
      ]
     },
     "execution_count": 5,
     "metadata": {},
     "output_type": "execute_result"
    }
   ],
   "source": [
    "MetadataStats(comms_df).variable_summarizing(\"call_category_1\")"
   ]
  },
  {
   "cell_type": "code",
   "execution_count": 6,
   "metadata": {},
   "outputs": [
    {
     "data": {
      "text/html": [
       "<div>\n",
       "<style scoped>\n",
       "    .dataframe tbody tr th:only-of-type {\n",
       "        vertical-align: middle;\n",
       "    }\n",
       "\n",
       "    .dataframe tbody tr th {\n",
       "        vertical-align: top;\n",
       "    }\n",
       "\n",
       "    .dataframe thead th {\n",
       "        text-align: right;\n",
       "    }\n",
       "</style>\n",
       "<table border=\"1\" class=\"dataframe\">\n",
       "  <thead>\n",
       "    <tr style=\"text-align: right;\">\n",
       "      <th></th>\n",
       "      <th>Variable Name</th>\n",
       "      <th>Label</th>\n",
       "      <th>Type</th>\n",
       "      <th>Number of missing</th>\n",
       "      <th>Number of categories</th>\n",
       "      <th>Mode</th>\n",
       "      <th>Number of distinct values</th>\n",
       "      <th>Minimum</th>\n",
       "      <th>Maximum</th>\n",
       "      <th>Mean</th>\n",
       "      <th>Standard Deviation</th>\n",
       "    </tr>\n",
       "  </thead>\n",
       "  <tbody>\n",
       "    <tr>\n",
       "      <th>0</th>\n",
       "      <td>Customer_ID</td>\n",
       "      <td>Customer_ID</td>\n",
       "      <td>Interval</td>\n",
       "      <td>0</td>\n",
       "      <td>NaN</td>\n",
       "      <td>0            471.0\n",
       "1           1057.0\n",
       "2       ...</td>\n",
       "      <td>NaN</td>\n",
       "      <td>471.0</td>\n",
       "      <td>3999922.000</td>\n",
       "      <td>1871721.317</td>\n",
       "      <td>1214487.999</td>\n",
       "    </tr>\n",
       "    <tr>\n",
       "      <th>1</th>\n",
       "      <td>upsell_xsell</td>\n",
       "      <td>upsell_xsell</td>\n",
       "      <td>Ordinal</td>\n",
       "      <td>0</td>\n",
       "      <td>NaN</td>\n",
       "      <td>NaN</td>\n",
       "      <td>2.0</td>\n",
       "      <td>0.0</td>\n",
       "      <td>1.000</td>\n",
       "      <td>NaN</td>\n",
       "      <td>NaN</td>\n",
       "    </tr>\n",
       "    <tr>\n",
       "      <th>2</th>\n",
       "      <td>churn</td>\n",
       "      <td>churn</td>\n",
       "      <td>Ordinal</td>\n",
       "      <td>0</td>\n",
       "      <td>NaN</td>\n",
       "      <td>NaN</td>\n",
       "      <td>2.0</td>\n",
       "      <td>0.0</td>\n",
       "      <td>1.000</td>\n",
       "      <td>NaN</td>\n",
       "      <td>NaN</td>\n",
       "    </tr>\n",
       "    <tr>\n",
       "      <th>3</th>\n",
       "      <td>lifetime_value</td>\n",
       "      <td>lifetime_value</td>\n",
       "      <td>Interval</td>\n",
       "      <td>0</td>\n",
       "      <td>NaN</td>\n",
       "      <td>0    0.0\n",
       "Name: lifetime_value, dtype: float64</td>\n",
       "      <td>NaN</td>\n",
       "      <td>-14006.0</td>\n",
       "      <td>60740.200</td>\n",
       "      <td>5281.528</td>\n",
       "      <td>5068.843</td>\n",
       "    </tr>\n",
       "    <tr>\n",
       "      <th>4</th>\n",
       "      <td>avg_arpu_3m</td>\n",
       "      <td>avg_arpu_3m</td>\n",
       "      <td>Interval</td>\n",
       "      <td>1120</td>\n",
       "      <td>NaN</td>\n",
       "      <td>0    51.775\n",
       "Name: avg_arpu_3m, dtype: float64</td>\n",
       "      <td>NaN</td>\n",
       "      <td>0.0</td>\n",
       "      <td>160.376</td>\n",
       "      <td>60.295</td>\n",
       "      <td>22.877</td>\n",
       "    </tr>\n",
       "    <tr>\n",
       "      <th>...</th>\n",
       "      <td>...</td>\n",
       "      <td>...</td>\n",
       "      <td>...</td>\n",
       "      <td>...</td>\n",
       "      <td>...</td>\n",
       "      <td>...</td>\n",
       "      <td>...</td>\n",
       "      <td>...</td>\n",
       "      <td>...</td>\n",
       "      <td>...</td>\n",
       "      <td>...</td>\n",
       "    </tr>\n",
       "    <tr>\n",
       "      <th>106</th>\n",
       "      <td>MB_Data_Usg_M07</td>\n",
       "      <td>MB_Data_Usg_M07</td>\n",
       "      <td>Ordinal</td>\n",
       "      <td>0</td>\n",
       "      <td>NaN</td>\n",
       "      <td>NaN</td>\n",
       "      <td>1106.0</td>\n",
       "      <td>0.0</td>\n",
       "      <td>13672.000</td>\n",
       "      <td>NaN</td>\n",
       "      <td>NaN</td>\n",
       "    </tr>\n",
       "    <tr>\n",
       "      <th>107</th>\n",
       "      <td>MB_Data_Usg_M08</td>\n",
       "      <td>MB_Data_Usg_M08</td>\n",
       "      <td>Ordinal</td>\n",
       "      <td>0</td>\n",
       "      <td>NaN</td>\n",
       "      <td>NaN</td>\n",
       "      <td>1504.0</td>\n",
       "      <td>0.0</td>\n",
       "      <td>16297.000</td>\n",
       "      <td>NaN</td>\n",
       "      <td>NaN</td>\n",
       "    </tr>\n",
       "    <tr>\n",
       "      <th>108</th>\n",
       "      <td>MB_Data_Usg_M09</td>\n",
       "      <td>MB_Data_Usg_M09</td>\n",
       "      <td>Ordinal</td>\n",
       "      <td>897</td>\n",
       "      <td>NaN</td>\n",
       "      <td>NaN</td>\n",
       "      <td>1357.0</td>\n",
       "      <td>0.0</td>\n",
       "      <td>8869.000</td>\n",
       "      <td>NaN</td>\n",
       "      <td>NaN</td>\n",
       "    </tr>\n",
       "    <tr>\n",
       "      <th>109</th>\n",
       "      <td>seconds_of_data_norm</td>\n",
       "      <td>seconds_of_data_norm</td>\n",
       "      <td>Interval</td>\n",
       "      <td>0</td>\n",
       "      <td>NaN</td>\n",
       "      <td>0    0.0\n",
       "Name: seconds_of_data_norm, dtype: fl...</td>\n",
       "      <td>NaN</td>\n",
       "      <td>-22503.0</td>\n",
       "      <td>73737.000</td>\n",
       "      <td>8608.265</td>\n",
       "      <td>8887.542</td>\n",
       "    </tr>\n",
       "    <tr>\n",
       "      <th>110</th>\n",
       "      <td>seconds_of_data_log</td>\n",
       "      <td>seconds_of_data_log</td>\n",
       "      <td>Interval</td>\n",
       "      <td>6154</td>\n",
       "      <td>NaN</td>\n",
       "      <td>0    0.0\n",
       "Name: seconds_of_data_log, dtype: flo...</td>\n",
       "      <td>NaN</td>\n",
       "      <td>0.0</td>\n",
       "      <td>11.208</td>\n",
       "      <td>8.452</td>\n",
       "      <td>1.885</td>\n",
       "    </tr>\n",
       "  </tbody>\n",
       "</table>\n",
       "<p>111 rows × 11 columns</p>\n",
       "</div>"
      ],
      "text/plain": [
       "            Variable Name                 Label      Type Number of missing  \\\n",
       "0             Customer_ID           Customer_ID  Interval                 0   \n",
       "1            upsell_xsell          upsell_xsell   Ordinal                 0   \n",
       "2                   churn                 churn   Ordinal                 0   \n",
       "3          lifetime_value        lifetime_value  Interval                 0   \n",
       "4             avg_arpu_3m           avg_arpu_3m  Interval              1120   \n",
       "..                    ...                   ...       ...               ...   \n",
       "106       MB_Data_Usg_M07       MB_Data_Usg_M07   Ordinal                 0   \n",
       "107       MB_Data_Usg_M08       MB_Data_Usg_M08   Ordinal                 0   \n",
       "108       MB_Data_Usg_M09       MB_Data_Usg_M09   Ordinal               897   \n",
       "109  seconds_of_data_norm  seconds_of_data_norm  Interval                 0   \n",
       "110   seconds_of_data_log   seconds_of_data_log  Interval              6154   \n",
       "\n",
       "    Number of categories                                               Mode  \\\n",
       "0                    NaN  0            471.0\n",
       "1           1057.0\n",
       "2       ...   \n",
       "1                    NaN                                                NaN   \n",
       "2                    NaN                                                NaN   \n",
       "3                    NaN      0    0.0\n",
       "Name: lifetime_value, dtype: float64   \n",
       "4                    NaN      0    51.775\n",
       "Name: avg_arpu_3m, dtype: float64   \n",
       "..                   ...                                                ...   \n",
       "106                  NaN                                                NaN   \n",
       "107                  NaN                                                NaN   \n",
       "108                  NaN                                                NaN   \n",
       "109                  NaN  0    0.0\n",
       "Name: seconds_of_data_norm, dtype: fl...   \n",
       "110                  NaN  0    0.0\n",
       "Name: seconds_of_data_log, dtype: flo...   \n",
       "\n",
       "     Number of distinct values  Minimum      Maximum         Mean  \\\n",
       "0                          NaN    471.0  3999922.000  1871721.317   \n",
       "1                          2.0      0.0        1.000          NaN   \n",
       "2                          2.0      0.0        1.000          NaN   \n",
       "3                          NaN -14006.0    60740.200     5281.528   \n",
       "4                          NaN      0.0      160.376       60.295   \n",
       "..                         ...      ...          ...          ...   \n",
       "106                     1106.0      0.0    13672.000          NaN   \n",
       "107                     1504.0      0.0    16297.000          NaN   \n",
       "108                     1357.0      0.0     8869.000          NaN   \n",
       "109                        NaN -22503.0    73737.000     8608.265   \n",
       "110                        NaN      0.0       11.208        8.452   \n",
       "\n",
       "     Standard Deviation  \n",
       "0           1214487.999  \n",
       "1                   NaN  \n",
       "2                   NaN  \n",
       "3              5068.843  \n",
       "4                22.877  \n",
       "..                  ...  \n",
       "106                 NaN  \n",
       "107                 NaN  \n",
       "108                 NaN  \n",
       "109            8887.542  \n",
       "110               1.885  \n",
       "\n",
       "[111 rows x 11 columns]"
      ]
     },
     "execution_count": 6,
     "metadata": {},
     "output_type": "execute_result"
    }
   ],
   "source": [
    "MetadataStats(comms_df).num_metadata_summarizing()"
   ]
  },
  {
   "cell_type": "code",
   "execution_count": null,
   "metadata": {},
   "outputs": [],
   "source": [
    "comms_df[\"avg_arpu_3m\"].skew()"
   ]
  },
  {
   "cell_type": "code",
   "execution_count": null,
   "metadata": {},
   "outputs": [],
   "source": [
    "df_ = comms_df[\"verbatims\"].to_frame()\n",
    "df_[\"verbatims_process\"] = df_[\"verbatims\"].apply(lambda x: x.decode(\"utf-8\"))"
   ]
  },
  {
   "cell_type": "code",
   "execution_count": null,
   "metadata": {},
   "outputs": [],
   "source": [
    "break"
   ]
  },
  {
   "cell_type": "code",
   "execution_count": null,
   "metadata": {},
   "outputs": [],
   "source": [
    "comms_df.shape"
   ]
  },
  {
   "cell_type": "code",
   "execution_count": null,
   "metadata": {},
   "outputs": [],
   "source": [
    "comms_df"
   ]
  },
  {
   "cell_type": "code",
   "execution_count": null,
   "metadata": {},
   "outputs": [],
   "source": [
    "pd.qcut(comms_df[\"calls_care_ltd\"], 4, duplicates='drop').astype(str)"
   ]
  },
  {
   "cell_type": "code",
   "execution_count": null,
   "metadata": {},
   "outputs": [],
   "source": [
    "comms_df.isna().sum().mean()"
   ]
  },
  {
   "cell_type": "code",
   "execution_count": null,
   "metadata": {},
   "outputs": [],
   "source": [
    "l_object_vars = comms_df.select_dtypes(include='object').columns.to_list()\n",
    "l_object_vars.remove('verbatims')\n",
    "l_object_vars.remove('resolution')\n",
    "df_obj = comms_df[[\"credit_class\", \"sales_channel\"]].apply(lambda x: x.apply(lambda z: z.decode(\"utf-8\")), axis=1)\n",
    "df_obj"
   ]
  },
  {
   "cell_type": "code",
   "execution_count": null,
   "metadata": {},
   "outputs": [],
   "source": [
    "docs = df_[\"verbatims_process\"].to_list()"
   ]
  },
  {
   "cell_type": "code",
   "execution_count": null,
   "metadata": {},
   "outputs": [],
   "source": [
    "ctfidf_model = ClassTfidfTransformer(reduce_frequent_words=True)\n",
    "topic_model = BERTopic(ctfidf_model=ctfidf_model)\n",
    "topics, probs = topic_model.fit_transform(docs)\n",
    "topic_model.reduce_topics(docs, nr_topics=15)\n",
    "vectorizer_model = CountVectorizer(stop_words=\"english\")\n",
    "topic_model.update_topics(docs, n_gram_range=(1, 3), vectorizer_model=vectorizer_model)"
   ]
  },
  {
   "cell_type": "code",
   "execution_count": null,
   "metadata": {},
   "outputs": [],
   "source": [
    "topic_model.get_document_info(docs)"
   ]
  },
  {
   "cell_type": "code",
   "execution_count": null,
   "metadata": {},
   "outputs": [],
   "source": [
    "topic_model.get_topics()[-1]"
   ]
  },
  {
   "cell_type": "code",
   "execution_count": null,
   "metadata": {},
   "outputs": [],
   "source": [
    "\"\"\"data = import_from_local(\".\")\n",
    "MetaDataManagement(data).metadata_management_pipeline()\n",
    "st.dataframe(data.head())\n",
    "\n",
    "st.markdown(\"# Categorical features processing\")\n",
    "\n",
    "\n",
    "### splitting\n",
    "X_train, X_valid, y_train, y_valid = train_valid_split(data)\n",
    "    \n",
    "## data variable management pipeline\n",
    "DataManagement(X_train).data_management_pipeline()\n",
    "DataManagement(X_valid).data_management_pipeline()\n",
    "\n",
    "\n",
    "# models pipelines\n",
    "## random forest model\n",
    "evaluate_rdmf(X_train, X_valid, y_train, y_valid, n_estimators=20)\n",
    "\n",
    "# model comparaison\"\"\""
   ]
  }
 ],
 "metadata": {
  "kernelspec": {
   "display_name": "Python 3",
   "language": "python",
   "name": "python3"
  },
  "language_info": {
   "codemirror_mode": {
    "name": "ipython",
    "version": 3
   },
   "file_extension": ".py",
   "mimetype": "text/x-python",
   "name": "python",
   "nbconvert_exporter": "python",
   "pygments_lexer": "ipython3",
   "version": "3.8.10"
  },
  "orig_nbformat": 4,
  "vscode": {
   "interpreter": {
    "hash": "31f2aee4e71d21fbe5cf8b01ff0e069b9275f58929596ceb00d14d90e3e16cd6"
   }
  }
 },
 "nbformat": 4,
 "nbformat_minor": 2
}
