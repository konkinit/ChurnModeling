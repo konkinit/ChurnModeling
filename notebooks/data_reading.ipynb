{
 "cells": [
  {
   "cell_type": "code",
   "execution_count": 1,
   "metadata": {},
   "outputs": [],
   "source": [
    "import os\n",
    "import sys\n",
    "import pandas as pd\n",
    "import matplotlib.pyplot as plt\n",
    "import numpy as np\n",
    "import re\n",
    "import pickle\n",
    "from sklearn.model_selection import train_test_split\n",
    "from sklearn.feature_extraction.text import CountVectorizer\n",
    "from sklearn.preprocessing import OneHotEncoder\n",
    "from sklearn.metrics import confusion_matrix, classification_report\n",
    "from warnings import simplefilter\n",
    "os.chdir(\"../\")\n",
    "from src.data import import_data, MetadataStats\n",
    "from src.features.build_features import MetaDataManagement, DataManagement"
   ]
  },
  {
   "cell_type": "code",
   "execution_count": 2,
   "metadata": {},
   "outputs": [
    {
     "data": {
      "text/plain": [
       "array([0.1 , 0.15, 0.2 , 0.25, 0.3 , 0.35, 0.4 , 0.45, 0.5 , 0.55, 0.6 ,\n",
       "       0.65, 0.7 , 0.75, 0.8 , 0.85, 0.9 ])"
      ]
     },
     "execution_count": 2,
     "metadata": {},
     "output_type": "execute_result"
    }
   ],
   "source": [
    "np.linspace(0.1, 0.9, 17)"
   ]
  },
  {
   "cell_type": "code",
   "execution_count": 3,
   "metadata": {},
   "outputs": [],
   "source": [
    "simplefilter(action=\"ignore\", category=pd.errors.PerformanceWarning)\n",
    "pd.set_option('display.max_columns', None)"
   ]
  },
  {
   "cell_type": "code",
   "execution_count": 4,
   "metadata": {},
   "outputs": [],
   "source": [
    "model_data = pickle.load(\n",
    "    open('./data/app_inputs/modeling_data.pkl', 'rb'))\n",
    "\n",
    "rdmf = pickle.load(\n",
    "    open('./data/models/rdmf_model.pkl', 'rb'))"
   ]
  },
  {
   "cell_type": "code",
   "execution_count": 5,
   "metadata": {},
   "outputs": [
    {
     "data": {
      "text/plain": [
       "0.8271452145214522"
      ]
     },
     "execution_count": 5,
     "metadata": {},
     "output_type": "execute_result"
    }
   ],
   "source": [
    "rdmf.score(model_data.X_valid_sparse, model_data.y_valid)"
   ]
  },
  {
   "cell_type": "code",
   "execution_count": 6,
   "metadata": {},
   "outputs": [
    {
     "data": {
      "text/plain": [
       "0.8311652226628609"
      ]
     },
     "execution_count": 6,
     "metadata": {},
     "output_type": "execute_result"
    }
   ],
   "source": [
    "rdmf.score(model_data.X_train_sparse, model_data.y_train)"
   ]
  },
  {
   "cell_type": "code",
   "execution_count": 7,
   "metadata": {},
   "outputs": [],
   "source": [
    "arr = rdmf.predict_proba(model_data.X_train_sparse)"
   ]
  },
  {
   "cell_type": "code",
   "execution_count": 16,
   "metadata": {},
   "outputs": [
    {
     "data": {
      "text/html": [
       "<div>\n",
       "<style scoped>\n",
       "    .dataframe tbody tr th:only-of-type {\n",
       "        vertical-align: middle;\n",
       "    }\n",
       "\n",
       "    .dataframe tbody tr th {\n",
       "        vertical-align: top;\n",
       "    }\n",
       "\n",
       "    .dataframe thead th {\n",
       "        text-align: right;\n",
       "    }\n",
       "</style>\n",
       "<table border=\"1\" class=\"dataframe\">\n",
       "  <thead>\n",
       "    <tr style=\"text-align: right;\">\n",
       "      <th></th>\n",
       "      <th>0.0</th>\n",
       "      <th>1.0</th>\n",
       "      <th>accuracy</th>\n",
       "      <th>macro avg</th>\n",
       "      <th>weighted avg</th>\n",
       "    </tr>\n",
       "  </thead>\n",
       "  <tbody>\n",
       "    <tr>\n",
       "      <th>precision</th>\n",
       "      <td>0.950641</td>\n",
       "      <td>0.388156</td>\n",
       "      <td>0.831165</td>\n",
       "      <td>0.669398</td>\n",
       "      <td>0.882400</td>\n",
       "    </tr>\n",
       "    <tr>\n",
       "      <th>recall</th>\n",
       "      <td>0.852096</td>\n",
       "      <td>0.679575</td>\n",
       "      <td>0.831165</td>\n",
       "      <td>0.765835</td>\n",
       "      <td>0.831165</td>\n",
       "    </tr>\n",
       "    <tr>\n",
       "      <th>f1-score</th>\n",
       "      <td>0.898675</td>\n",
       "      <td>0.494096</td>\n",
       "      <td>0.831165</td>\n",
       "      <td>0.696386</td>\n",
       "      <td>0.849591</td>\n",
       "    </tr>\n",
       "    <tr>\n",
       "      <th>support</th>\n",
       "      <td>34786.000000</td>\n",
       "      <td>4803.000000</td>\n",
       "      <td>0.831165</td>\n",
       "      <td>39589.000000</td>\n",
       "      <td>39589.000000</td>\n",
       "    </tr>\n",
       "  </tbody>\n",
       "</table>\n",
       "</div>"
      ],
      "text/plain": [
       "                    0.0          1.0  accuracy     macro avg  weighted avg\n",
       "precision      0.950641     0.388156  0.831165      0.669398      0.882400\n",
       "recall         0.852096     0.679575  0.831165      0.765835      0.831165\n",
       "f1-score       0.898675     0.494096  0.831165      0.696386      0.849591\n",
       "support    34786.000000  4803.000000  0.831165  39589.000000  39589.000000"
      ]
     },
     "execution_count": 16,
     "metadata": {},
     "output_type": "execute_result"
    }
   ],
   "source": [
    "pd.DataFrame(data=classification_report(model_data.y_train, rdmf.predict(model_data.X_train_sparse), output_dict=True))"
   ]
  },
  {
   "cell_type": "code",
   "execution_count": 11,
   "metadata": {},
   "outputs": [],
   "source": [
    "df = import_data()\n",
    "# MetaDataManagement(df).metadata_management_pipeline()\n",
    "# sp_mat, cols = DataManagement(df).data_management_pipeline()"
   ]
  },
  {
   "attachments": {},
   "cell_type": "markdown",
   "metadata": {},
   "source": [
    "# Idea Testing"
   ]
  },
  {
   "cell_type": "code",
   "execution_count": null,
   "metadata": {},
   "outputs": [],
   "source": [
    "comms_df = df.copy()"
   ]
  },
  {
   "cell_type": "code",
   "execution_count": null,
   "metadata": {},
   "outputs": [],
   "source": [
    "comms_df.avg_arpu_3m.mode()"
   ]
  },
  {
   "cell_type": "code",
   "execution_count": null,
   "metadata": {},
   "outputs": [],
   "source": [
    "MetadataStats(comms_df).variable_summarizing(\"call_category_1\")"
   ]
  },
  {
   "cell_type": "code",
   "execution_count": null,
   "metadata": {},
   "outputs": [],
   "source": [
    "MetadataStats(comms_df).metadata_report('char')"
   ]
  },
  {
   "cell_type": "code",
   "execution_count": null,
   "metadata": {},
   "outputs": [],
   "source": [
    "df_ = comms_df[\"verbatims\"].to_frame()\n",
    "df_[\"verbatims\"] = df_[\"verbatims\"].apply(lambda x: x.decode(\"utf-8\"))\n",
    "df_[\"verbatims_process\"] = df_[\"verbatims\"].copy()"
   ]
  },
  {
   "cell_type": "code",
   "execution_count": null,
   "metadata": {},
   "outputs": [],
   "source": [
    "df_.head()"
   ]
  },
  {
   "cell_type": "code",
   "execution_count": null,
   "metadata": {},
   "outputs": [],
   "source": [
    "comms_df.shape"
   ]
  },
  {
   "cell_type": "code",
   "execution_count": null,
   "metadata": {},
   "outputs": [],
   "source": [
    "docs = df_[\"verbatims_process\"].to_list()"
   ]
  },
  {
   "cell_type": "code",
   "execution_count": null,
   "metadata": {},
   "outputs": [],
   "source": [
    "\"\"\"\n",
    "from bertopic import BERTopic, vectorizers\n",
    "vectorizer_model = CountVectorizer(stop_words=\"english\")\n",
    "ctfidf_model = vectorizers.ClassTfidfTransformer(reduce_frequent_words=True)\n",
    "\n",
    "topic_model = BERTopic(\n",
    "    embedding_model=\"bert-base-cased\",\n",
    "    # ctfidf_model=ctfidf_model,\n",
    "    n_gram_range=(1, 3))\n",
    "\n",
    "topics, probs = topic_model.fit_transform(docs)\n",
    "topic_model.reduce_topics(docs, nr_topics=15)\"\"\""
   ]
  },
  {
   "cell_type": "code",
   "execution_count": null,
   "metadata": {},
   "outputs": [],
   "source": [
    "\"\"\"data = import_from_local(\".\")\n",
    "MetaDataManagement(data).metadata_management_pipeline()\n",
    "st.dataframe(data.head())\n",
    "\n",
    "st.markdown(\"# Categorical features processing\")\n",
    "\n",
    "\n",
    "### splitting\n",
    "X_train, X_valid, y_train, y_valid = train_valid_split(data)\n",
    "    \n",
    "## data variable management pipeline\n",
    "DataManagement(X_train).data_management_pipeline()\n",
    "DataManagement(X_valid).data_management_pipeline()\n",
    "\n",
    "\n",
    "# models pipelines\n",
    "## random forest model\n",
    "evaluate_rdmf(X_train, X_valid, y_train, y_valid, n_estimators=20)\n",
    "\n",
    "# model comparaison\"\"\""
   ]
  }
 ],
 "metadata": {
  "kernelspec": {
   "display_name": "base",
   "language": "python",
   "name": "python3"
  },
  "language_info": {
   "codemirror_mode": {
    "name": "ipython",
    "version": 3
   },
   "file_extension": ".py",
   "mimetype": "text/x-python",
   "name": "python",
   "nbconvert_exporter": "python",
   "pygments_lexer": "ipython3",
   "version": "3.10.9"
  },
  "orig_nbformat": 4
 },
 "nbformat": 4,
 "nbformat_minor": 2
}
