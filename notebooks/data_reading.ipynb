{
 "cells": [
  {
   "cell_type": "code",
   "execution_count": 1,
   "metadata": {},
   "outputs": [],
   "source": [
    "import os\n",
    "import sys\n",
    "import pandas as pd\n",
    "import matplotlib.pyplot as plt\n",
    "import numpy as np\n",
    "import re\n",
    "import pickle\n",
    "from sklearn.model_selection import train_test_split\n",
    "from sklearn.feature_extraction.text import CountVectorizer\n",
    "from sklearn.preprocessing import OneHotEncoder\n",
    "from warnings import simplefilter\n",
    "os.chdir(\"../\")\n",
    "from src.data import import_data, MetadataStats\n",
    "from src.features.build_features import MetaDataManagement, DataManagement"
   ]
  },
  {
   "cell_type": "code",
   "execution_count": 2,
   "metadata": {},
   "outputs": [],
   "source": [
    "simplefilter(action=\"ignore\", category=pd.errors.PerformanceWarning)\n",
    "pd.set_option('display.max_columns', None)"
   ]
  },
  {
   "cell_type": "code",
   "execution_count": null,
   "metadata": {},
   "outputs": [],
   "source": [
    "model_data = pickle.load(\n",
    "    open('./data/app_inputs/modeling_data.pkl', 'rb'))\n",
    "\n",
    "rdmf = pickle.load(\n",
    "    open('./data/models/rdmf_model.pkl', 'rb'))"
   ]
  },
  {
   "cell_type": "code",
   "execution_count": null,
   "metadata": {},
   "outputs": [],
   "source": [
    "rdmf.score(model_data.X_valid_sparse, model_data.y_valid)"
   ]
  },
  {
   "cell_type": "code",
   "execution_count": null,
   "metadata": {},
   "outputs": [],
   "source": [
    "rdmf.score(model_data.X_train_sparse, model_data.y_train)"
   ]
  },
  {
   "cell_type": "code",
   "execution_count": 3,
   "metadata": {},
   "outputs": [],
   "source": [
    "df = import_data()\n",
    "# MetaDataManagement(df).metadata_management_pipeline()\n",
    "# sp_mat, cols = DataManagement(df).data_management_pipeline()"
   ]
  },
  {
   "attachments": {},
   "cell_type": "markdown",
   "metadata": {},
   "source": [
    "# Idea Testing"
   ]
  },
  {
   "cell_type": "code",
   "execution_count": 4,
   "metadata": {},
   "outputs": [],
   "source": [
    "comms_df = df.copy()"
   ]
  },
  {
   "cell_type": "code",
   "execution_count": null,
   "metadata": {},
   "outputs": [],
   "source": [
    "comms_df.avg_arpu_3m.mode()"
   ]
  },
  {
   "cell_type": "code",
   "execution_count": null,
   "metadata": {},
   "outputs": [],
   "source": [
    "MetadataStats(comms_df).variable_summarizing(\"call_category_1\")"
   ]
  },
  {
   "cell_type": "code",
   "execution_count": null,
   "metadata": {},
   "outputs": [],
   "source": [
    "MetadataStats(comms_df).metadata_report('char')"
   ]
  },
  {
   "cell_type": "code",
   "execution_count": null,
   "metadata": {},
   "outputs": [],
   "source": [
    "df_ = comms_df[\"verbatims\"].to_frame()\n",
    "df_[\"verbatims\"] = df_[\"verbatims\"].apply(lambda x: x.decode(\"utf-8\"))\n",
    "df_[\"verbatims_process\"] = df_[\"verbatims\"].copy()"
   ]
  },
  {
   "cell_type": "code",
   "execution_count": null,
   "metadata": {},
   "outputs": [],
   "source": [
    "df_.head()"
   ]
  },
  {
   "cell_type": "code",
   "execution_count": null,
   "metadata": {},
   "outputs": [],
   "source": [
    "comms_df.shape"
   ]
  },
  {
   "cell_type": "code",
   "execution_count": null,
   "metadata": {},
   "outputs": [],
   "source": [
    "docs = df_[\"verbatims_process\"].to_list()"
   ]
  },
  {
   "cell_type": "code",
   "execution_count": null,
   "metadata": {},
   "outputs": [],
   "source": [
    "\"\"\"\n",
    "from bertopic import BERTopic, vectorizers\n",
    "vectorizer_model = CountVectorizer(stop_words=\"english\")\n",
    "ctfidf_model = vectorizers.ClassTfidfTransformer(reduce_frequent_words=True)\n",
    "\n",
    "topic_model = BERTopic(\n",
    "    embedding_model=\"bert-base-cased\",\n",
    "    # ctfidf_model=ctfidf_model,\n",
    "    n_gram_range=(1, 3))\n",
    "\n",
    "topics, probs = topic_model.fit_transform(docs)\n",
    "topic_model.reduce_topics(docs, nr_topics=15)\"\"\""
   ]
  },
  {
   "cell_type": "code",
   "execution_count": null,
   "metadata": {},
   "outputs": [],
   "source": [
    "\"\"\"data = import_from_local(\".\")\n",
    "MetaDataManagement(data).metadata_management_pipeline()\n",
    "st.dataframe(data.head())\n",
    "\n",
    "st.markdown(\"# Categorical features processing\")\n",
    "\n",
    "\n",
    "### splitting\n",
    "X_train, X_valid, y_train, y_valid = train_valid_split(data)\n",
    "    \n",
    "## data variable management pipeline\n",
    "DataManagement(X_train).data_management_pipeline()\n",
    "DataManagement(X_valid).data_management_pipeline()\n",
    "\n",
    "\n",
    "# models pipelines\n",
    "## random forest model\n",
    "evaluate_rdmf(X_train, X_valid, y_train, y_valid, n_estimators=20)\n",
    "\n",
    "# model comparaison\"\"\""
   ]
  }
 ],
 "metadata": {
  "kernelspec": {
   "display_name": "base",
   "language": "python",
   "name": "python3"
  },
  "language_info": {
   "codemirror_mode": {
    "name": "ipython",
    "version": 3
   },
   "file_extension": ".py",
   "mimetype": "text/x-python",
   "name": "python",
   "nbconvert_exporter": "python",
   "pygments_lexer": "ipython3",
   "version": "3.10.9"
  },
  "orig_nbformat": 4
 },
 "nbformat": 4,
 "nbformat_minor": 2
}
